{
 "cells": [
  {
   "cell_type": "code",
   "execution_count": 2,
   "id": "10e1c173",
   "metadata": {},
   "outputs": [
    {
     "name": "stdout",
     "output_type": "stream",
     "text": [
      "[47000    30    10]\n"
     ]
    }
   ],
   "source": [
    "import pandas as pd\n",
    "import numpy as np\n",
    "\n",
    "df = pd.read_excel(r\"C:\\Users\\andro\\Downloads\\list.xlsx\", sheet_name='Sheet1', usecols='A:C')\n",
    "\n",
    "data = np.array(df)\n",
    "\n",
    "positive_criteria = [0, 1]\n",
    "negative_criteria = [2]\n",
    "\n",
    "pareto_set = []\n",
    "\n",
    "for i in range(len(data)):\n",
    "    is_pareto = True\n",
    "    \n",
    "    for j in range(len(data)):\n",
    "        if i != j and all(data[j, positive_criteria]>= data[i, positive_criteria]) and all(data[j, negative_criteria] <= data[i, negative_criteria]):\n",
    "            is_pareto = False\n",
    "            break\n",
    "    \n",
    "    if is_pareto:\n",
    "        pareto_set.append(data[i])\n",
    "\n",
    "\n",
    "for solution in pareto_set:\n",
    "    print(solution)"
   ]
  },
  {
   "cell_type": "code",
   "execution_count": null,
   "id": "1c9dcbfd",
   "metadata": {},
   "outputs": [],
   "source": []
  }
 ],
 "metadata": {
  "kernelspec": {
   "display_name": "Python 3 (ipykernel)",
   "language": "python",
   "name": "python3"
  },
  "language_info": {
   "codemirror_mode": {
    "name": "ipython",
    "version": 3
   },
   "file_extension": ".py",
   "mimetype": "text/x-python",
   "name": "python",
   "nbconvert_exporter": "python",
   "pygments_lexer": "ipython3",
   "version": "3.11.4"
  }
 },
 "nbformat": 4,
 "nbformat_minor": 5
}
